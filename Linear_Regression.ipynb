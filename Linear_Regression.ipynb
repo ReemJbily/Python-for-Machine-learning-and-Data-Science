{
  "nbformat": 4,
  "nbformat_minor": 0,
  "metadata": {
    "colab": {
      "name": "Linear Regression",
      "provenance": [],
      "collapsed_sections": [],
      "authorship_tag": "ABX9TyPlNVl/7DW+2AlkpFcElqVU",
      "include_colab_link": true
    },
    "kernelspec": {
      "name": "python3",
      "display_name": "Python 3"
    },
    "language_info": {
      "name": "python"
    }
  },
  "cells": [
    {
      "cell_type": "markdown",
      "metadata": {
        "id": "view-in-github",
        "colab_type": "text"
      },
      "source": [
        "<a href=\"https://colab.research.google.com/github/ReemJbily/Python-for-Machine-learning-and-Data-Science/blob/main/Linear_Regression.ipynb\" target=\"_parent\"><img src=\"https://colab.research.google.com/assets/colab-badge.svg\" alt=\"Open In Colab\"/></a>"
      ]
    },
    {
      "cell_type": "markdown",
      "source": [
        "# Linear Regression\n",
        "Finds a relation between two variabels that is presented as a line.\n",
        "\n",
        "\n",
        "\n",
        "In its simplest forms, it can be represented as the mathimatical equation that associats input variable  X and output variable Y:\n",
        "\n",
        "        Y=B0 + B1*X\n",
        "The B0 and B1 are coefficients determining the slope and intercept of the equation.\n",
        "\n",
        " "
      ],
      "metadata": {
        "id": "tqOg0CW0Ud7k"
      }
    },
    {
      "cell_type": "code",
      "source": [
        "import numpy as np\n",
        "import matplotlib.pyplot as plt"
      ],
      "metadata": {
        "id": "4rpxILusyus5"
      },
      "execution_count": 40,
      "outputs": []
    },
    {
      "cell_type": "code",
      "execution_count": 41,
      "metadata": {
        "id": "Ew5he6rnQTyf",
        "colab": {
          "base_uri": "https://localhost:8080/",
          "height": 283
        },
        "outputId": "7dede333-1b50-4554-c113-a184aa1c0896"
      },
      "outputs": [
        {
          "output_type": "execute_result",
          "data": {
            "text/plain": [
              "[<matplotlib.lines.Line2D at 0x7f7ba21bf810>]"
            ]
          },
          "metadata": {},
          "execution_count": 41
        },
        {
          "output_type": "display_data",
          "data": {
            "text/plain": [
              "<Figure size 432x288 with 1 Axes>"
            ],
            "image/png": "[encoded data removed]"
          },
          "metadata": {
            "needs_background": "light"
          }
        }
      ],
      "source": [
        "X=[10,2,1,5,6,6,7,8,2,3,3,1,3,5,2,5,4,8,8,10,9,10]#independent variabel\n",
        "Y=[1,2,3,4,5,6,7,8,1,2,3,4,6,5,5,7,8,9,10,2,6,10]#dependent variable\n",
        "plt.plot(X,Y,'or')# plotting sampels"
      ]
    },
    {
      "cell_type": "markdown",
      "source": [
        "Calculate the line using mathematical implementation"
      ],
      "metadata": {
        "id": "56F-ufax6MUE"
      }
    },
    {
      "cell_type": "code",
      "source": [
        "class LinearRegressionMath:\n",
        "  def __init__(self):\n",
        "    self.B0=0.0 #intersect\n",
        "    self.B1=0.0 #slope  \n",
        "  def calculate_linera_regression(self):    \n",
        "    X_mean=np.mean(X)\n",
        "    Y_mean=np.mean(Y)\n",
        "    num_values=len(X)\n",
        "    numorater=0 # the part of the equation that represent the numorater\n",
        "    domenator=0 # the part of the equation that represent the domenator\n",
        "    for i in range(num_values):\n",
        "      numorater+=(X[i]-X_mean)*(Y[i]-Y_mean)\n",
        "      domenator+=(X[i]-X_mean)**2\n",
        "\n",
        "    self.B1=numorater/domenator\n",
        "    self.B0=Y_mean-self.B1*X_mean\n",
        "    print(self.B1,self.B0)\n",
        "    \n",
        "\n",
        "  def draw_plot(self):\n",
        "    slope=self.B1\n",
        "    intersect=self.B0\n",
        "    plt.scatter(X,Y,c='r')   \n",
        "    line=[]\n",
        "    for val in X:\n",
        "      line.append(intersect+slope*val)\n",
        "    plt.plot(X,line, 'b')\n",
        "    plt.title('Linear regression ')\n",
        "    plt.xlabel('X')\n",
        "    plt.ylabel('Y')  "
      ],
      "metadata": {
        "id": "4N-mL4Wry5_G"
      },
      "execution_count": 42,
      "outputs": []
    },
    {
      "cell_type": "code",
      "source": [
        "X=[10,2,1,5,6,6,7,8,2,3,3,1,3,5,2,5,4,8,8,10,9,10]\n",
        "Y=[1,2,3,4,5,6,7,8,1,2,3,4,6,5,5,7,8,9,10,2,6,10]\n",
        "lr=LinearRegressionMath()\n",
        "lr.calculate_linera_regression()\n",
        "lr.draw_plot()"
      ],
      "metadata": {
        "id": "EKWypoEz64bk",
        "colab": {
          "base_uri": "https://localhost:8080/",
          "height": 313
        },
        "outputId": "559f7e89-6ef2-42f7-a062-01535b4c7ee0"
      },
      "execution_count": 47,
      "outputs": [
        {
          "output_type": "stream",
          "name": "stdout",
          "text": [
            "0.3705273069679849 3.1944444444444446\n"
          ]
        },
        {
          "output_type": "display_data",
          "data": {
            "text/plain": [
              "<Figure size 432x288 with 1 Axes>"
            ],
            "image/png": "[encoded data removed]"
          },
          "metadata": {
            "needs_background": "light"
          }
        }
      ]
    },
    {
      "cell_type": "markdown",
      "source": [
        "Calculate using scikit learn linera regression"
      ],
      "metadata": {
        "id": "vilAXgi86AZT"
      }
    },
    {
      "cell_type": "code",
      "source": [
        "from sklearn.linear_model import LinearRegression\n",
        "X_sci=np.array(X)#convert to array\n",
        "Y_sci=np.array(Y)\n",
        "print(X_sci.shape,Y_sci.shape)\n",
        "#add a dimension to the array\n",
        "X_sci=np.expand_dims(X_sci,1)\n",
        "Y_sci=np.expand_dims(Y_sci,1)\n",
        "print(X_sci.shape,Y_sci.shape)\n",
        "#start calculating the coefficients\n",
        "reg = LinearRegression().fit(X_sci, Y)\n",
        "print(reg.coef_,reg.intercept_)"
      ],
      "metadata": {
        "colab": {
          "base_uri": "https://localhost:8080/"
        },
        "id": "rsLZI_Oa2kOL",
        "outputId": "2a9d8abd-ed89-4006-cc77-871ef5f5a048"
      },
      "execution_count": 48,
      "outputs": [
        {
          "output_type": "stream",
          "name": "stdout",
          "text": [
            "(22,) (22,)\n",
            "(22, 1) (22, 1)\n",
            "[0.37052731] 3.1944444444444446\n"
          ]
        }
      ]
    },
    {
      "cell_type": "code",
      "source": [
        "\n",
        "plt.scatter(X_sci,Y_sci,c='r')\n",
        "line_sci=[]\n",
        "for val in X_sci:\n",
        "  line_sci.append(reg.intercept_+reg.coef_*val)\n",
        "plt.plot(X_sci,line_sci, 'b')\n",
        "plt.title('Linear regression ')\n",
        "plt.xlabel('X')\n",
        "plt.ylabel('Y')"
      ],
      "metadata": {
        "id": "YrTmw-e55PWq",
        "colab": {
          "base_uri": "https://localhost:8080/",
          "height": 313
        },
        "outputId": "f03df93f-d031-480c-9a8b-4ecd3ecf977b"
      },
      "execution_count": 49,
      "outputs": [
        {
          "output_type": "execute_result",
          "data": {
            "text/plain": [
              "Text(0, 0.5, 'Y')"
            ]
          },
          "metadata": {},
          "execution_count": 49
        },
        {
          "output_type": "display_data",
          "data": {
            "text/plain": [
              "<Figure size 432x288 with 1 Axes>"
            ],
            "image/png": "[encoded data removed]"
          },
          "metadata": {
            "needs_background": "light"
          }
        }
      ]
    },
    {
      "cell_type": "code",
      "source": [
        ""
      ],
      "metadata": {
        "id": "8Toc3SyCLoxF"
      },
      "execution_count": null,
      "outputs": []
    }
  ]
}